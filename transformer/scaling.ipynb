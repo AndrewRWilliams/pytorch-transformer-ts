{
 "cells": [
  {
   "cell_type": "code",
   "execution_count": 1,
   "id": "d4aa17d8",
   "metadata": {},
   "outputs": [],
   "source": [
    "%matplotlib inline\n",
    "from matplotlib import pyplot as plt\n",
    "import matplotlib.dates as mdates\n",
    "\n",
    "from itertools import islice\n",
    "import pickle"
   ]
  },
  {
   "cell_type": "code",
   "execution_count": 2,
   "id": "a45a0a88",
   "metadata": {},
   "outputs": [
    {
     "name": "stderr",
     "output_type": "stream",
     "text": [
      "WARNING:root:Pytorch pre-release version 1.12.0a0+git689df63 - assuming intent to test it\n"
     ]
    }
   ],
   "source": [
    "from pytorch_lightning.utilities.model_summary import summarize\n",
    "from datasets import load_dataset\n",
    "from gluonts.evaluation import make_evaluation_predictions, Evaluator\n",
    "from gluonts.dataset.common import ListDataset\n",
    "from estimator import TransformerEstimator"
   ]
  },
  {
   "cell_type": "code",
   "execution_count": 8,
   "id": "6d78a5c6",
   "metadata": {},
   "outputs": [
    {
     "data": {
      "application/vnd.jupyter.widget-view+json": {
       "model_id": "f08ab3cbbaa645b0ad72904428cc7737",
       "version_major": 2,
       "version_minor": 0
      },
      "text/plain": [
       "Downloading builder script:   0%|          | 0.00/2.36k [00:00<?, ?B/s]"
      ]
     },
     "metadata": {},
     "output_type": "display_data"
    },
    {
     "data": {
      "application/vnd.jupyter.widget-view+json": {
       "model_id": "1cefe360a95a4edc83ee9f6059866702",
       "version_major": 2,
       "version_minor": 0
      },
      "text/plain": [
       "Downloading metadata:   0%|          | 0.00/1.14k [00:00<?, ?B/s]"
      ]
     },
     "metadata": {},
     "output_type": "display_data"
    },
    {
     "data": {
      "application/vnd.jupyter.widget-view+json": {
       "model_id": "d4cb01ed425748dca615a8059e0560d1",
       "version_major": 2,
       "version_minor": 0
      },
      "text/plain": [
       "Downloading extra modules:   0%|          | 0.00/378 [00:00<?, ?B/s]"
      ]
     },
     "metadata": {},
     "output_type": "display_data"
    },
    {
     "name": "stdout",
     "output_type": "stream",
     "text": [
      "Downloading and preparing dataset electricity_load_diagrams/lstnet (download: 249.23 MiB, generated: 232.73 MiB, post-processed: Unknown size, total: 481.96 MiB) to /home/kashif/.cache/huggingface/datasets/electricity_load_diagrams/lstnet/1.0.0/fe3dd01c39428ad92523a7ced0df3fdf669cb0548b3dd16fb9f7009381aa440f...\n"
     ]
    },
    {
     "data": {
      "application/vnd.jupyter.widget-view+json": {
       "model_id": "b70187d9afcf4ca2a09cfb8f750740c4",
       "version_major": 2,
       "version_minor": 0
      },
      "text/plain": [
       "Downloading data:   0%|          | 0.00/261M [00:00<?, ?B/s]"
      ]
     },
     "metadata": {},
     "output_type": "display_data"
    },
    {
     "data": {
      "application/vnd.jupyter.widget-view+json": {
       "model_id": "",
       "version_major": 2,
       "version_minor": 0
      },
      "text/plain": [
       "Generating train split:   0%|          | 0/320 [00:00<?, ? examples/s]"
      ]
     },
     "metadata": {},
     "output_type": "display_data"
    },
    {
     "data": {
      "application/vnd.jupyter.widget-view+json": {
       "model_id": "",
       "version_major": 2,
       "version_minor": 0
      },
      "text/plain": [
       "Generating test split:   0%|          | 0/2240 [00:00<?, ? examples/s]"
      ]
     },
     "metadata": {},
     "output_type": "display_data"
    },
    {
     "data": {
      "application/vnd.jupyter.widget-view+json": {
       "model_id": "",
       "version_major": 2,
       "version_minor": 0
      },
      "text/plain": [
       "Generating validation split:   0%|          | 0/320 [00:00<?, ? examples/s]"
      ]
     },
     "metadata": {},
     "output_type": "display_data"
    },
    {
     "name": "stdout",
     "output_type": "stream",
     "text": [
      "Dataset electricity_load_diagrams downloaded and prepared to /home/kashif/.cache/huggingface/datasets/electricity_load_diagrams/lstnet/1.0.0/fe3dd01c39428ad92523a7ced0df3fdf669cb0548b3dd16fb9f7009381aa440f. Subsequent calls will reuse this data.\n"
     ]
    },
    {
     "data": {
      "application/vnd.jupyter.widget-view+json": {
       "model_id": "c5a52fb5d9d5466e85196f593ca0c7a8",
       "version_major": 2,
       "version_minor": 0
      },
      "text/plain": [
       "  0%|          | 0/3 [00:00<?, ?it/s]"
      ]
     },
     "metadata": {},
     "output_type": "display_data"
    }
   ],
   "source": [
    "dataset = load_dataset(\"electricity_load_diagrams\", \"lstnet\")"
   ]
  },
  {
   "cell_type": "code",
   "execution_count": 16,
   "id": "4a3efb88",
   "metadata": {},
   "outputs": [],
   "source": [
    "freq = \"1H\"\n",
    "if  = 24"
   ]
  },
  {
   "cell_type": "code",
   "execution_count": 11,
   "id": "dde1b70c",
   "metadata": {},
   "outputs": [],
   "source": [
    "train_ds = ListDataset(dataset[\"train\"], freq=freq)"
   ]
  },
  {
   "cell_type": "code",
   "execution_count": 12,
   "id": "06bfb217",
   "metadata": {},
   "outputs": [],
   "source": [
    "val_ds = ListDataset(dataset[\"validation\"], freq=freq)"
   ]
  },
  {
   "cell_type": "code",
   "execution_count": 13,
   "id": "1fa6850b",
   "metadata": {},
   "outputs": [],
   "source": [
    "test_ds = ListDataset(dataset[\"test\"], freq=freq)"
   ]
  },
  {
   "cell_type": "markdown",
   "id": "f3e9c192",
   "metadata": {},
   "source": [
    "## Sclaing Experiments\n",
    "\n",
    "We keep the individual layers of the Transformer unchanged: i.e. \n",
    "* the model dimension\n",
    "* the width of the feed-forward layer `dim_feedforward=16`; \n",
    "* and the number of attention heads `nhead=2`\n",
    "\n",
    "We examine the change in the test set metrics as the number of parameters increases with the following three depth scaling approaches:\n",
    "* Encoder Scaling: vary the `num_encoder_layers` while `num_decoder_layers` is kept fixed\n",
    "* Decoder Scaling: vary the `num_decoder_layers` while the `num_encoder_layers` is kept fixed\n",
    "* Symmetric Scaling: vary both the `num_encoder_layers` and `num_decoder_layers` but being equal"
   ]
  },
  {
   "cell_type": "code",
   "execution_count": 51,
   "id": "5411bad5",
   "metadata": {},
   "outputs": [],
   "source": [
    "layers = [2, 4, 8, 12, 16, 20, 24, 28, 32, 36, 40, 48, 56, 64]"
   ]
  },
  {
   "cell_type": "markdown",
   "id": "9c54e512",
   "metadata": {},
   "source": [
    "### Encoder Scaling"
   ]
  },
  {
   "cell_type": "code",
   "execution_count": null,
   "id": "9b68016d",
   "metadata": {},
   "outputs": [],
   "source": [
    "enc_metrics = []\n",
    "for layer in layers:\n",
    "    estimator = TransformerEstimator(\n",
    "        freq=freq,\n",
    "        prediction_length=prediction_length,\n",
    "        context_length=prediction_length*7,\n",
    "\n",
    "        nhead=2,\n",
    "        num_encoder_layers=layer,\n",
    "        num_decoder_layers=6,\n",
    "        dim_feedforward=16,\n",
    "        activation=\"gelu\",\n",
    "\n",
    "        num_feat_static_cat=1,\n",
    "        cardinality=[320],\n",
    "        embedding_dimension=[5],\n",
    "\n",
    "        batch_size=128,\n",
    "        num_batches_per_epoch=100,\n",
    "        trainer_kwargs=dict(max_epochs=50, accelerator='auto', gpus=1),\n",
    "    )\n",
    "    \n",
    "    predictor = estimator.train(\n",
    "        training_data=train_ds,\n",
    "        validation_data=val_ds,\n",
    "        num_workers=8,\n",
    "        shuffle_buffer_length=1024\n",
    "    )\n",
    "    \n",
    "    forecast_it, ts_it = make_evaluation_predictions(\n",
    "        dataset=test_ds, \n",
    "        predictor=predictor\n",
    "    )\n",
    "    forecasts = list(forecast_it)\n",
    "    \n",
    "    if layer == layers[0]:\n",
    "        tss = list(ts_it)\n",
    "    \n",
    "    evaluator = Evaluator()\n",
    "    agg_metrics, _ = evaluator(iter(tss), iter(forecasts))\n",
    "    agg_metrics[\"trainable_parameters\"] = summarize(estimator.create_lightning_module()).trainable_parameters\n",
    "    enc_metrics.append(agg_metrics.copy())\n",
    "    \n",
    "with open(\"elec_enc_metrics.pkl\", \"wb\") as fp:\n",
    "    pickle.dump(enc_metrics, fp)"
   ]
  },
  {
   "cell_type": "code",
   "execution_count": 3,
   "id": "2a0bc6a8",
   "metadata": {},
   "outputs": [],
   "source": [
    "with open(\"elec_enc_metrics.pkl\", \"rb\") as fp:\n",
    "    enc_metrics = pickle.load(fp)"
   ]
  },
  {
   "cell_type": "code",
   "execution_count": 4,
   "id": "87875548",
   "metadata": {
    "scrolled": true
   },
   "outputs": [
    {
     "data": {
      "text/plain": [
       "Text(0.5, 1.0, 'Encoder Scaling')"
      ]
     },
     "execution_count": 4,
     "metadata": {},
     "output_type": "execute_result"
    },
    {
     "data": {
      "image/png": "[encoded data removed]",
      "text/plain": [
       "<Figure size 432x288 with 1 Axes>"
      ]
     },
     "metadata": {
      "needs_background": "light"
     },
     "output_type": "display_data"
    }
   ],
   "source": [
    "plt.plot(\n",
    "    [metrics[\"trainable_parameters\"] for metrics in enc_metrics],\n",
    "    [metrics[\"mean_wQuantileLoss\"] for metrics in enc_metrics],   \n",
    ")\n",
    "plt.xlabel(\"trainable parameters\")\n",
    "plt.ylabel(\"CRPS\")\n",
    "plt.title(\"Encoder Scaling\")"
   ]
  },
  {
   "cell_type": "code",
   "execution_count": 7,
   "id": "bc9a04af",
   "metadata": {},
   "outputs": [
    {
     "data": {
      "text/plain": [
       "Text(0.5, 1.0, 'Encoder Scaling')"
      ]
     },
     "execution_count": 7,
     "metadata": {},
     "output_type": "execute_result"
    },
    {
     "data": {
      "image/png": "[encoded data removed]",
      "text/plain": [
       "<Figure size 432x288 with 1 Axes>"
      ]
     },
     "metadata": {
      "needs_background": "light"
     },
     "output_type": "display_data"
    }
   ],
   "source": [
    "plt.plot(\n",
    "    [metrics[\"trainable_parameters\"] for metrics in enc_metrics],\n",
    "    [metrics[\"MASE\"] for metrics in enc_metrics],   \n",
    ")\n",
    "plt.xlabel(\"trainable parameters\")\n",
    "plt.ylabel(\"MASE\")\n",
    "plt.title(\"Encoder Scaling\")"
   ]
  },
  {
   "cell_type": "code",
   "execution_count": 6,
   "id": "0a6ab5ee",
   "metadata": {},
   "outputs": [
    {
     "data": {
      "text/plain": [
       "Text(0.5, 1.0, 'Encoder Scaling')"
      ]
     },
     "execution_count": 6,
     "metadata": {},
     "output_type": "execute_result"
    },
    {
     "data": {
      "image/png": "[encoded data removed]",
      "text/plain": [
       "<Figure size 432x288 with 1 Axes>"
      ]
     },
     "metadata": {
      "needs_background": "light"
     },
     "output_type": "display_data"
    }
   ],
   "source": [
    "plt.plot(\n",
    "    [metrics[\"trainable_parameters\"] for metrics in enc_metrics],\n",
    "    [metrics[\"NRMSE\"] for metrics in enc_metrics],   \n",
    ")\n",
    "plt.xlabel(\"trainable parameters\")\n",
    "plt.ylabel(\"NRMSE\")\n",
    "plt.title(\"Encoder Scaling\")"
   ]
  },
  {
   "cell_type": "markdown",
   "id": "2308a10f",
   "metadata": {},
   "source": [
    "### Decoder Scaling"
   ]
  },
  {
   "cell_type": "code",
   "execution_count": null,
   "id": "476beeac",
   "metadata": {},
   "outputs": [],
   "source": [
    "dec_metrics = []\n",
    "for layer in layers:\n",
    "    estimator = TransformerEstimator(\n",
    "        freq=freq,\n",
    "        prediction_length=prediction_length,\n",
    "        context_length=prediction_length*7,\n",
    "\n",
    "        nhead=2,\n",
    "        num_encoder_layers=6,\n",
    "        num_decoder_layers=layer,\n",
    "        dim_feedforward=16,\n",
    "        activation=\"gelu\",\n",
    "\n",
    "        num_feat_static_cat=1,\n",
    "        cardinality=[320],\n",
    "        embedding_dimension=[5],\n",
    "\n",
    "        batch_size=128,\n",
    "        num_batches_per_epoch=100,\n",
    "        trainer_kwargs=dict(max_epochs=50, accelerator='auto', gpus=1),\n",
    "    )\n",
    "    \n",
    "    predictor = estimator.train(\n",
    "        training_data=train_ds,\n",
    "        validation_data=val_ds,\n",
    "        num_workers=8,\n",
    "        shuffle_buffer_length=1024\n",
    "    )\n",
    "    \n",
    "    forecast_it, ts_it = make_evaluation_predictions(\n",
    "        dataset=test_ds, \n",
    "        predictor=predictor\n",
    "    )\n",
    "    forecasts = list(forecast_it)\n",
    "    if layer == layers[0]:\n",
    "        tss = list(ts_it)\n",
    "    \n",
    "    evaluator = Evaluator()\n",
    "    agg_metrics, _ = evaluator(iter(tss), iter(forecasts))\n",
    "    agg_metrics[\"trainable_parameters\"] = summarize(estimator.create_lightning_module()).trainable_parameters\n",
    "    dec_metrics.append(agg_metrics.copy())\n",
    "    \n",
    "with open(\"elec_dec_metrics.pkl\", \"wb\") as fp:\n",
    "    pickle.dump(dec_metrics, fp)"
   ]
  },
  {
   "cell_type": "code",
   "execution_count": 8,
   "id": "2f00decc",
   "metadata": {},
   "outputs": [],
   "source": [
    "with open(\"elec_dec_metrics.pkl\", \"rb\") as fp:\n",
    "    dec_metrics = pickle.load(fp)"
   ]
  },
  {
   "cell_type": "code",
   "execution_count": 9,
   "id": "fc3311e9",
   "metadata": {},
   "outputs": [
    {
     "data": {
      "text/plain": [
       "Text(0.5, 1.0, 'Decoder Scaling')"
      ]
     },
     "execution_count": 9,
     "metadata": {},
     "output_type": "execute_result"
    },
    {
     "data": {
      "image/png": "[encoded data removed]",
      "text/plain": [
       "<Figure size 432x288 with 1 Axes>"
      ]
     },
     "metadata": {
      "needs_background": "light"
     },
     "output_type": "display_data"
    }
   ],
   "source": [
    "plt.plot(\n",
    "    [metrics[\"trainable_parameters\"] for metrics in dec_metrics],\n",
    "    [metrics[\"mean_wQuantileLoss\"] for metrics in dec_metrics],   \n",
    ")\n",
    "plt.xlabel(\"trainable parameters\")\n",
    "plt.ylabel(\"CRPS\")\n",
    "plt.title(\"Decoder Scaling\")"
   ]
  },
  {
   "cell_type": "code",
   "execution_count": 10,
   "id": "be4e5502",
   "metadata": {},
   "outputs": [
    {
     "data": {
      "text/plain": [
       "Text(0.5, 1.0, 'Decoder Scaling')"
      ]
     },
     "execution_count": 10,
     "metadata": {},
     "output_type": "execute_result"
    },
    {
     "data": {
      "image/png": "[encoded data removed]",
      "text/plain": [
       "<Figure size 432x288 with 1 Axes>"
      ]
     },
     "metadata": {
      "needs_background": "light"
     },
     "output_type": "display_data"
    }
   ],
   "source": [
    "plt.plot(\n",
    "    [metrics[\"trainable_parameters\"] for metrics in dec_metrics],\n",
    "    [metrics[\"MASE\"] for metrics in dec_metrics],   \n",
    ")\n",
    "plt.xlabel(\"trainable parameters\")\n",
    "plt.ylabel(\"MASE\")\n",
    "plt.title(\"Decoder Scaling\")"
   ]
  },
  {
   "cell_type": "code",
   "execution_count": 11,
   "id": "5d6e2046",
   "metadata": {},
   "outputs": [
    {
     "data": {
      "text/plain": [
       "Text(0.5, 1.0, 'Decoder Scaling')"
      ]
     },
     "execution_count": 11,
     "metadata": {},
     "output_type": "execute_result"
    },
    {
     "data": {
      "image/png": "[encoded data removed]",
      "text/plain": [
       "<Figure size 432x288 with 1 Axes>"
      ]
     },
     "metadata": {
      "needs_background": "light"
     },
     "output_type": "display_data"
    }
   ],
   "source": [
    "plt.plot(\n",
    "    [metrics[\"trainable_parameters\"] for metrics in dec_metrics],\n",
    "    [metrics[\"NRMSE\"] for metrics in dec_metrics],   \n",
    ")\n",
    "plt.xlabel(\"trainable parameters\")\n",
    "plt.ylabel(\"NRMSE\")\n",
    "plt.title(\"Decoder Scaling\")"
   ]
  },
  {
   "cell_type": "markdown",
   "id": "4338c927",
   "metadata": {},
   "source": [
    "### Symmetric Scaling"
   ]
  },
  {
   "cell_type": "code",
   "execution_count": null,
   "id": "88b5c69d",
   "metadata": {},
   "outputs": [],
   "source": [
    "sym_metrics = []\n",
    "for layer in layers:\n",
    "    estimator = TransformerEstimator(\n",
    "        freq=freq,\n",
    "        prediction_length=prediction_length,\n",
    "        context_length=prediction_length*7,\n",
    "\n",
    "        nhead=2,\n",
    "        num_encoder_layers=layer,\n",
    "        num_decoder_layers=layer,\n",
    "        dim_feedforward=16,\n",
    "        activation=\"gelu\",\n",
    "\n",
    "        num_feat_static_cat=1,\n",
    "        cardinality=[320],\n",
    "        embedding_dimension=[5],\n",
    "\n",
    "        batch_size=128,\n",
    "        num_batches_per_epoch=100,\n",
    "        trainer_kwargs=dict(max_epochs=50, accelerator='auto', gpus=1),\n",
    "    )\n",
    "    \n",
    "    predictor = estimator.train(\n",
    "        training_data=train_ds,\n",
    "        validation_data=val_ds,\n",
    "        num_workers=8,\n",
    "        shuffle_buffer_length=1024\n",
    "    )\n",
    "    \n",
    "    forecast_it, ts_it = make_evaluation_predictions(\n",
    "        dataset=test_ds, \n",
    "        predictor=predictor\n",
    "    )\n",
    "    forecasts = list(forecast_it)\n",
    "    if layer == layers[0]:\n",
    "        tss = list(ts_it)\n",
    "    \n",
    "    evaluator = Evaluator()\n",
    "    agg_metrics, _ = evaluator(iter(tss), iter(forecasts))\n",
    "    agg_metrics[\"trainable_parameters\"] = summarize(estimator.create_lightning_module()).trainable_parameters\n",
    "    sym_metrics.append(agg_metrics.copy())\\\n",
    "\n",
    "with open(\"elec_sym_metrics.pkl\", \"wb\") as fp:\n",
    "    pickle.dump(sym_metrics, fp)"
   ]
  }
 ],
 "metadata": {
  "kernelspec": {
   "display_name": "Python 3 (ipykernel)",
   "language": "python",
   "name": "python3"
  },
  "language_info": {
   "codemirror_mode": {
    "name": "ipython",
    "version": 3
   },
   "file_extension": ".py",
   "mimetype": "text/x-python",
   "name": "python",
   "nbconvert_exporter": "python",
   "pygments_lexer": "ipython3",
   "version": "3.8.10"
  }
 },
 "nbformat": 4,
 "nbformat_minor": 5
}
